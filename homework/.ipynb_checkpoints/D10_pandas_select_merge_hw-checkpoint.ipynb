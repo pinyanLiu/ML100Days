{
 "cells": [
  {
   "cell_type": "markdown",
   "metadata": {
    "colab_type": "text",
    "id": "P6xk2_jLsvFF"
   },
   "source": [
    "# [作業目標]\n",
    "\n",
    "1. [簡答題] 請問下列四種不同的 DataFrame 選取結果有什麼差異？\n",
    "\n",
    "```\n",
    "df.loc[ '2013-01-01', 'A'] \n",
    "df.loc[ '2013-01-01', ['A', 'B'] ] \n",
    "df.loc[ '2013-01-01':'2013-01-02', 'A' ] \n",
    "df.loc[ '2013-01-01':'2013-01-05', 'A':'C'] \n",
    "```\n",
    "\n",
    "\n",
    "2. 請根據提供的資料，選擇出下列的要求：\n",
    "\n",
    "```\n",
    "# - select the first 3 rows.\n",
    "# - select the odd rows. (index = 1, 3, 5)\n",
    "# - select the last 2 columns.\n",
    "# - select the even columns. (index = 0, 2, 4)\n",
    "```\n",
    "\n",
    "3. 請根據提供的資料，選擇出下列的要求：\n",
    "\n",
    "```\n",
    "# - 1. filtered by first column > 20?\n",
    "# - 2. filtered by first column + second column > 50\n",
    "# - 3. filtered by first column < 30 or second column > 30\n",
    "# - 4. filtered by total sum of row > 100\n",
    "```"
   ]
  },
  {
   "cell_type": "markdown",
   "metadata": {
    "colab_type": "text",
    "id": "uXGll28asvFS"
   },
   "source": [
    "# 作業 "
   ]
  },
  {
   "cell_type": "markdown",
   "metadata": {},
   "source": [
    "### 1. [簡答題] 請問下列四種不同的 DataFrame 選取結果有什麼差異？\n",
    "\n",
    "```\n",
    "df.loc[ '2013-01-01', 'A'] \n",
    "df.loc[ '2013-01-01', ['A', 'B'] ] \n",
    "df.loc[ '2013-01-01':'2013-01-02', 'A' ] \n",
    "df.loc[ '2013-01-01':'2013-01-05', 'A':'C'] \n",
    "```\n",
    "\n",
    "\n",
    "\n"
   ]
  },
  {
   "cell_type": "code",
   "execution_count": 1,
   "metadata": {
    "colab": {},
    "colab_type": "code",
    "id": "5QrYoyNWsvFS"
   },
   "outputs": [],
   "source": [
    "取到的值不一樣r"
   ]
  },
  {
   "cell_type": "markdown",
   "metadata": {},
   "source": [
    "### 2. 請根據提供的資料，選擇出下列的要求：\n",
    "\n",
    "```\n",
    "# - select the first 3 rows.\n",
    "# - select the odd rows. (index = 1, 3, 5)\n",
    "# - select the last 2 columns.\n",
    "# - select the even columns. (index = 0, 2, 4)\n",
    "```\n"
   ]
  },
  {
   "cell_type": "code",
   "execution_count": 3,
   "metadata": {},
   "outputs": [
    {
     "data": {
      "text/plain": [
       "\"\\nimport pandas as pd\\ndf = pd.DataFrame(np.random.randn(6,3),columns=['col1','col2','col3'])\\ndf\\n\""
      ]
     },
     "execution_count": 3,
     "metadata": {},
     "output_type": "execute_result"
    }
   ],
   "source": [
    "# 記得先 Import 正確的套件\n",
    "\n",
    "\n",
    "'''\n",
    "\n",
    "'''"
   ]
  },
  {
   "cell_type": "code",
   "execution_count": 21,
   "metadata": {
    "colab": {},
    "colab_type": "code",
    "id": "e1gVI0tvsvFY"
   },
   "outputs": [
    {
     "name": "stdout",
     "output_type": "stream",
     "text": [
      "       col1      col2      col3\n",
      "0  0.802501  1.852842 -2.298075\n",
      "1 -0.842278 -1.620408  0.089030\n",
      "2  1.254781 -0.218522 -0.099460\n",
      "3 -2.026538 -0.714402  1.019712\n",
      "4 -0.275633 -1.190013  0.305498\n",
      "5 -0.126254 -1.217019 -1.602979\n"
     ]
    }
   ],
   "source": [
    "import pandas as pd\n",
    "import numpy as np\n",
    "df = pd.DataFrame(np.random.randn(6,3),columns=['col1','col2','col3'])\n",
    "print(df)\n"
   ]
  },
  {
   "cell_type": "code",
   "execution_count": 22,
   "metadata": {},
   "outputs": [
    {
     "name": "stdout",
     "output_type": "stream",
     "text": [
      "       col1      col2      col3\n",
      "0  0.802501  1.852842 -2.298075\n",
      "1 -0.842278 -1.620408  0.089030\n",
      "2  1.254781 -0.218522 -0.099460\n"
     ]
    }
   ],
   "source": [
    "print(df[0:3])"
   ]
  },
  {
   "cell_type": "code",
   "execution_count": 23,
   "metadata": {},
   "outputs": [
    {
     "name": "stdout",
     "output_type": "stream",
     "text": [
      "       col1      col2      col3\n",
      "1 -0.842278 -1.620408  0.089030\n",
      "3 -2.026538 -0.714402  1.019712\n",
      "5 -0.126254 -1.217019 -1.602979\n"
     ]
    }
   ],
   "source": [
    "print(df[df.index%2 == 1])"
   ]
  },
  {
   "cell_type": "code",
   "execution_count": 26,
   "metadata": {},
   "outputs": [
    {
     "name": "stdout",
     "output_type": "stream",
     "text": [
      "       col2      col3\n",
      "0  1.852842 -2.298075\n",
      "1 -1.620408  0.089030\n",
      "2 -0.218522 -0.099460\n",
      "3 -0.714402  1.019712\n",
      "4 -1.190013  0.305498\n",
      "5 -1.217019 -1.602979\n"
     ]
    }
   ],
   "source": [
    "print(df[['col2','col3']])"
   ]
  },
  {
   "cell_type": "code",
   "execution_count": 28,
   "metadata": {},
   "outputs": [
    {
     "data": {
      "text/plain": [
       "'\\nprint(df[df.index%2 ==0])\\n'"
      ]
     },
     "execution_count": 28,
     "metadata": {},
     "output_type": "execute_result"
    }
   ],
   "source": [
    "\n",
    "print(df[df.index%2 ==0])\n"
   ]
  },
  {
   "cell_type": "code",
   "execution_count": 8,
   "metadata": {},
   "outputs": [
    {
     "data": {
      "text/html": [
       "<div>\n",
       "<style scoped>\n",
       "    .dataframe tbody tr th:only-of-type {\n",
       "        vertical-align: middle;\n",
       "    }\n",
       "\n",
       "    .dataframe tbody tr th {\n",
       "        vertical-align: top;\n",
       "    }\n",
       "\n",
       "    .dataframe thead th {\n",
       "        text-align: right;\n",
       "    }\n",
       "</style>\n",
       "<table border=\"1\" class=\"dataframe\">\n",
       "  <thead>\n",
       "    <tr style=\"text-align: right;\">\n",
       "      <th></th>\n",
       "      <th>col1</th>\n",
       "      <th>col3</th>\n",
       "    </tr>\n",
       "  </thead>\n",
       "  <tbody>\n",
       "    <tr>\n",
       "      <th>0</th>\n",
       "      <td>0.824286</td>\n",
       "      <td>-0.887365</td>\n",
       "    </tr>\n",
       "    <tr>\n",
       "      <th>1</th>\n",
       "      <td>-1.044179</td>\n",
       "      <td>-0.975283</td>\n",
       "    </tr>\n",
       "    <tr>\n",
       "      <th>2</th>\n",
       "      <td>-1.812146</td>\n",
       "      <td>2.556824</td>\n",
       "    </tr>\n",
       "    <tr>\n",
       "      <th>3</th>\n",
       "      <td>1.746811</td>\n",
       "      <td>-1.529704</td>\n",
       "    </tr>\n",
       "    <tr>\n",
       "      <th>4</th>\n",
       "      <td>0.992052</td>\n",
       "      <td>-0.858061</td>\n",
       "    </tr>\n",
       "    <tr>\n",
       "      <th>5</th>\n",
       "      <td>0.387535</td>\n",
       "      <td>0.714364</td>\n",
       "    </tr>\n",
       "  </tbody>\n",
       "</table>\n",
       "</div>"
      ],
      "text/plain": [
       "       col1      col3\n",
       "0  0.824286 -0.887365\n",
       "1 -1.044179 -0.975283\n",
       "2 -1.812146  2.556824\n",
       "3  1.746811 -1.529704\n",
       "4  0.992052 -0.858061\n",
       "5  0.387535  0.714364"
      ]
     },
     "execution_count": 8,
     "metadata": {},
     "output_type": "execute_result"
    }
   ],
   "source": [
    "'''\n",
    "import pandas as pd\n",
    "import numpy as np\n",
    "df = pd.DataFrame(np.random.randn(6,3),columns=['col1','col2','col3'])\n",
    "print(df)\n",
    "print(df[0:3])\n",
    "print(df[df.index%2 == 1])\n",
    "print(df[['col2','col3']])\n",
    "print(df[df.index%2 ==0])\n",
    "'''"
   ]
  },
  {
   "cell_type": "markdown",
   "metadata": {},
   "source": [
    "### 3. 請根據提供的資料，選擇出下列的要求：\n",
    "\n",
    "```\n",
    "# - 1. filtered by first column > 20?\n",
    "# - 2. filtered by first column + second column > 50\n",
    "# - 3. filtered by first column < 30 or second column > 30\n",
    "# - 4. filtered by total sum of row > 100\n",
    "```"
   ]
  },
  {
   "cell_type": "code",
   "execution_count": 31,
   "metadata": {},
   "outputs": [
    {
     "data": {
      "text/html": [
       "<div>\n",
       "<style scoped>\n",
       "    .dataframe tbody tr th:only-of-type {\n",
       "        vertical-align: middle;\n",
       "    }\n",
       "\n",
       "    .dataframe tbody tr th {\n",
       "        vertical-align: top;\n",
       "    }\n",
       "\n",
       "    .dataframe thead th {\n",
       "        text-align: right;\n",
       "    }\n",
       "</style>\n",
       "<table border=\"1\" class=\"dataframe\">\n",
       "  <thead>\n",
       "    <tr style=\"text-align: right;\">\n",
       "      <th></th>\n",
       "      <th>0</th>\n",
       "      <th>1</th>\n",
       "      <th>2</th>\n",
       "      <th>3</th>\n",
       "    </tr>\n",
       "  </thead>\n",
       "  <tbody>\n",
       "    <tr>\n",
       "      <th>0</th>\n",
       "      <td>28</td>\n",
       "      <td>19</td>\n",
       "      <td>22</td>\n",
       "      <td>24</td>\n",
       "    </tr>\n",
       "    <tr>\n",
       "      <th>1</th>\n",
       "      <td>26</td>\n",
       "      <td>35</td>\n",
       "      <td>34</td>\n",
       "      <td>30</td>\n",
       "    </tr>\n",
       "    <tr>\n",
       "      <th>2</th>\n",
       "      <td>24</td>\n",
       "      <td>26</td>\n",
       "      <td>38</td>\n",
       "      <td>14</td>\n",
       "    </tr>\n",
       "    <tr>\n",
       "      <th>3</th>\n",
       "      <td>10</td>\n",
       "      <td>13</td>\n",
       "      <td>36</td>\n",
       "      <td>37</td>\n",
       "    </tr>\n",
       "    <tr>\n",
       "      <th>4</th>\n",
       "      <td>29</td>\n",
       "      <td>28</td>\n",
       "      <td>15</td>\n",
       "      <td>14</td>\n",
       "    </tr>\n",
       "    <tr>\n",
       "      <th>5</th>\n",
       "      <td>12</td>\n",
       "      <td>35</td>\n",
       "      <td>28</td>\n",
       "      <td>33</td>\n",
       "    </tr>\n",
       "    <tr>\n",
       "      <th>6</th>\n",
       "      <td>32</td>\n",
       "      <td>31</td>\n",
       "      <td>12</td>\n",
       "      <td>31</td>\n",
       "    </tr>\n",
       "    <tr>\n",
       "      <th>7</th>\n",
       "      <td>22</td>\n",
       "      <td>39</td>\n",
       "      <td>29</td>\n",
       "      <td>16</td>\n",
       "    </tr>\n",
       "    <tr>\n",
       "      <th>8</th>\n",
       "      <td>30</td>\n",
       "      <td>19</td>\n",
       "      <td>10</td>\n",
       "      <td>11</td>\n",
       "    </tr>\n",
       "    <tr>\n",
       "      <th>9</th>\n",
       "      <td>39</td>\n",
       "      <td>13</td>\n",
       "      <td>21</td>\n",
       "      <td>39</td>\n",
       "    </tr>\n",
       "    <tr>\n",
       "      <th>10</th>\n",
       "      <td>15</td>\n",
       "      <td>34</td>\n",
       "      <td>25</td>\n",
       "      <td>14</td>\n",
       "    </tr>\n",
       "    <tr>\n",
       "      <th>11</th>\n",
       "      <td>13</td>\n",
       "      <td>26</td>\n",
       "      <td>11</td>\n",
       "      <td>15</td>\n",
       "    </tr>\n",
       "    <tr>\n",
       "      <th>12</th>\n",
       "      <td>17</td>\n",
       "      <td>19</td>\n",
       "      <td>35</td>\n",
       "      <td>19</td>\n",
       "    </tr>\n",
       "    <tr>\n",
       "      <th>13</th>\n",
       "      <td>19</td>\n",
       "      <td>27</td>\n",
       "      <td>31</td>\n",
       "      <td>23</td>\n",
       "    </tr>\n",
       "    <tr>\n",
       "      <th>14</th>\n",
       "      <td>39</td>\n",
       "      <td>39</td>\n",
       "      <td>26</td>\n",
       "      <td>14</td>\n",
       "    </tr>\n",
       "  </tbody>\n",
       "</table>\n",
       "</div>"
      ],
      "text/plain": [
       "     0   1   2   3\n",
       "0   28  19  22  24\n",
       "1   26  35  34  30\n",
       "2   24  26  38  14\n",
       "3   10  13  36  37\n",
       "4   29  28  15  14\n",
       "5   12  35  28  33\n",
       "6   32  31  12  31\n",
       "7   22  39  29  16\n",
       "8   30  19  10  11\n",
       "9   39  13  21  39\n",
       "10  15  34  25  14\n",
       "11  13  26  11  15\n",
       "12  17  19  35  19\n",
       "13  19  27  31  23\n",
       "14  39  39  26  14"
      ]
     },
     "execution_count": 31,
     "metadata": {},
     "output_type": "execute_result"
    }
   ],
   "source": [
    "df = pd.DataFrame(np.random.randint(10, 40, 60).reshape(-1, 4))\n",
    "df"
   ]
  },
  {
   "cell_type": "code",
   "execution_count": 65,
   "metadata": {},
   "outputs": [
    {
     "name": "stdout",
     "output_type": "stream",
     "text": [
      "0     28\n",
      "1     26\n",
      "2     24\n",
      "4     29\n",
      "6     32\n",
      "7     22\n",
      "8     30\n",
      "9     39\n",
      "14    39\n",
      "Name: 0, dtype: int64\n",
      "     0   1   2   3\n",
      "0   28  19  22  24\n",
      "1   26  35  34  30\n",
      "2   24  26  38  14\n",
      "4   29  28  15  14\n",
      "6   32  31  12  31\n",
      "7   22  39  29  16\n",
      "8   30  19  10  11\n",
      "9   39  13  21  39\n",
      "14  39  39  26  14\n"
     ]
    }
   ],
   "source": [
    "print(df[0][df[0]>20])\n",
    "print(df.loc[df[0]>20])"
   ]
  },
  {
   "cell_type": "code",
   "execution_count": 47,
   "metadata": {},
   "outputs": [
    {
     "name": "stdout",
     "output_type": "stream",
     "text": [
      "     0   1   2   3\n",
      "1   26  35  34  30\n",
      "4   29  28  15  14\n",
      "6   32  31  12  31\n",
      "7   22  39  29  16\n",
      "9   39  13  21  39\n",
      "14  39  39  26  14\n"
     ]
    }
   ],
   "source": [
    "print(df.loc[df[0]+df[1]>50])"
   ]
  },
  {
   "cell_type": "code",
   "execution_count": 67,
   "metadata": {},
   "outputs": [
    {
     "name": "stdout",
     "output_type": "stream",
     "text": [
      "     0   1   2   3\n",
      "0   28  19  22  24\n",
      "1   26  35  34  30\n",
      "2   24  26  38  14\n",
      "3   10  13  36  37\n",
      "4   29  28  15  14\n",
      "5   12  35  28  33\n",
      "6   32  31  12  31\n",
      "7   22  39  29  16\n",
      "10  15  34  25  14\n",
      "11  13  26  11  15\n",
      "12  17  19  35  19\n",
      "13  19  27  31  23\n",
      "14  39  39  26  14\n",
      "     0   1   2   3\n",
      "0   28  19  22  24\n",
      "1   26  35  34  30\n",
      "2   24  26  38  14\n",
      "3   10  13  36  37\n",
      "4   29  28  15  14\n",
      "5   12  35  28  33\n",
      "6   32  31  12  31\n",
      "7   22  39  29  16\n",
      "10  15  34  25  14\n",
      "11  13  26  11  15\n",
      "12  17  19  35  19\n",
      "13  19  27  31  23\n",
      "14  39  39  26  14\n"
     ]
    }
   ],
   "source": [
    "a = df[0]<30\n",
    "b = df[1]>30\n",
    "print(df[a|b])\n",
    "print(df.loc[(df[0]<30)|(df[1]>30)])"
   ]
  },
  {
   "cell_type": "code",
   "execution_count": 69,
   "metadata": {},
   "outputs": [
    {
     "name": "stdout",
     "output_type": "stream",
     "text": [
      "     0   1   2   3\n",
      "1   26  35  34  30\n",
      "2   24  26  38  14\n",
      "5   12  35  28  33\n",
      "6   32  31  12  31\n",
      "7   22  39  29  16\n",
      "9   39  13  21  39\n",
      "14  39  39  26  14\n"
     ]
    }
   ],
   "source": [
    "print(df.loc[df[0]+df[1]+df[2]+df[3]>100])"
   ]
  },
  {
   "cell_type": "code",
   "execution_count": 6,
   "metadata": {},
   "outputs": [
    {
     "data": {
      "text/html": [
       "<div>\n",
       "<style scoped>\n",
       "    .dataframe tbody tr th:only-of-type {\n",
       "        vertical-align: middle;\n",
       "    }\n",
       "\n",
       "    .dataframe tbody tr th {\n",
       "        vertical-align: top;\n",
       "    }\n",
       "\n",
       "    .dataframe thead th {\n",
       "        text-align: right;\n",
       "    }\n",
       "</style>\n",
       "<table border=\"1\" class=\"dataframe\">\n",
       "  <thead>\n",
       "    <tr style=\"text-align: right;\">\n",
       "      <th></th>\n",
       "      <th>0</th>\n",
       "      <th>1</th>\n",
       "      <th>2</th>\n",
       "      <th>3</th>\n",
       "    </tr>\n",
       "  </thead>\n",
       "  <tbody>\n",
       "    <tr>\n",
       "      <th>0</th>\n",
       "      <td>24</td>\n",
       "      <td>32</td>\n",
       "      <td>33</td>\n",
       "      <td>17</td>\n",
       "    </tr>\n",
       "    <tr>\n",
       "      <th>1</th>\n",
       "      <td>37</td>\n",
       "      <td>32</td>\n",
       "      <td>26</td>\n",
       "      <td>15</td>\n",
       "    </tr>\n",
       "    <tr>\n",
       "      <th>3</th>\n",
       "      <td>34</td>\n",
       "      <td>30</td>\n",
       "      <td>27</td>\n",
       "      <td>24</td>\n",
       "    </tr>\n",
       "    <tr>\n",
       "      <th>4</th>\n",
       "      <td>34</td>\n",
       "      <td>20</td>\n",
       "      <td>38</td>\n",
       "      <td>27</td>\n",
       "    </tr>\n",
       "    <tr>\n",
       "      <th>6</th>\n",
       "      <td>39</td>\n",
       "      <td>35</td>\n",
       "      <td>38</td>\n",
       "      <td>24</td>\n",
       "    </tr>\n",
       "    <tr>\n",
       "      <th>7</th>\n",
       "      <td>35</td>\n",
       "      <td>19</td>\n",
       "      <td>37</td>\n",
       "      <td>12</td>\n",
       "    </tr>\n",
       "    <tr>\n",
       "      <th>8</th>\n",
       "      <td>16</td>\n",
       "      <td>17</td>\n",
       "      <td>37</td>\n",
       "      <td>32</td>\n",
       "    </tr>\n",
       "    <tr>\n",
       "      <th>9</th>\n",
       "      <td>38</td>\n",
       "      <td>38</td>\n",
       "      <td>38</td>\n",
       "      <td>17</td>\n",
       "    </tr>\n",
       "    <tr>\n",
       "      <th>11</th>\n",
       "      <td>25</td>\n",
       "      <td>35</td>\n",
       "      <td>27</td>\n",
       "      <td>22</td>\n",
       "    </tr>\n",
       "    <tr>\n",
       "      <th>12</th>\n",
       "      <td>33</td>\n",
       "      <td>20</td>\n",
       "      <td>15</td>\n",
       "      <td>37</td>\n",
       "    </tr>\n",
       "  </tbody>\n",
       "</table>\n",
       "</div>"
      ],
      "text/plain": [
       "     0   1   2   3\n",
       "0   24  32  33  17\n",
       "1   37  32  26  15\n",
       "3   34  30  27  24\n",
       "4   34  20  38  27\n",
       "6   39  35  38  24\n",
       "7   35  19  37  12\n",
       "8   16  17  37  32\n",
       "9   38  38  38  17\n",
       "11  25  35  27  22\n",
       "12  33  20  15  37"
      ]
     },
     "execution_count": 6,
     "metadata": {},
     "output_type": "execute_result"
    }
   ],
   "source": [
    "'''\n",
    "df = pd.DataFrame(np.random.randint(10, 40, 60).reshape(-1, 4))\n",
    "df\n",
    "print(df[0][df[0]>20])\n",
    "print(df.loc[df[0]>20])\n",
    "print(df.loc[df[0]+df[1]>50])\n",
    "a = df[0]<30\n",
    "b = df[1]>30\n",
    "print(df[a|b])\n",
    "print(df.loc[(df[0]<30)|(df[1]>30)])\n",
    "print(df.loc[df[0]+df[1]+df[2]+df[3]>100])\n",
    "'''"
   ]
  },
  {
   "cell_type": "code",
   "execution_count": null,
   "metadata": {},
   "outputs": [],
   "source": []
  },
  {
   "cell_type": "code",
   "execution_count": null,
   "metadata": {},
   "outputs": [],
   "source": []
  },
  {
   "cell_type": "code",
   "execution_count": null,
   "metadata": {},
   "outputs": [],
   "source": []
  }
 ],
 "metadata": {
  "colab": {
   "name": "Day_023_HW.ipynb",
   "provenance": []
  },
  "kernelspec": {
   "display_name": "Python 3",
   "language": "python",
   "name": "python3"
  },
  "language_info": {
   "codemirror_mode": {
    "name": "ipython",
    "version": 3
   },
   "file_extension": ".py",
   "mimetype": "text/x-python",
   "name": "python",
   "nbconvert_exporter": "python",
   "pygments_lexer": "ipython3",
   "version": "3.6.9"
  }
 },
 "nbformat": 4,
 "nbformat_minor": 1
}
